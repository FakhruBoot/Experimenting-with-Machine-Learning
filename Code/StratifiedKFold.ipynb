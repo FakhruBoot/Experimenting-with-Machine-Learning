{
 "cells": [
  {
   "cell_type": "code",
   "execution_count": 1,
   "id": "c6ca4245",
   "metadata": {},
   "outputs": [],
   "source": [
    "import pandas as pd\n",
    "import numpy as np\n",
    "import sklearn as sk\n",
    "from sklearn.model_selection import StratifiedKFold, cross_val_score, cross_validate\n",
    "from sklearn.linear_model import LogisticRegression"
   ]
  },
  {
   "cell_type": "code",
   "execution_count": 5,
   "id": "50376b49",
   "metadata": {},
   "outputs": [],
   "source": [
    "cancer_data=pd.read_csv(r'C:\\Users\\fakhr\\Experimental_design_for_data_analysis\\Dataset\\cancer_data.csv')"
   ]
  },
  {
   "cell_type": "code",
   "execution_count": 6,
   "id": "594600e2",
   "metadata": {},
   "outputs": [
    {
     "data": {
      "text/html": [
       "<div>\n",
       "<style scoped>\n",
       "    .dataframe tbody tr th:only-of-type {\n",
       "        vertical-align: middle;\n",
       "    }\n",
       "\n",
       "    .dataframe tbody tr th {\n",
       "        vertical-align: top;\n",
       "    }\n",
       "\n",
       "    .dataframe thead th {\n",
       "        text-align: right;\n",
       "    }\n",
       "</style>\n",
       "<table border=\"1\" class=\"dataframe\">\n",
       "  <thead>\n",
       "    <tr style=\"text-align: right;\">\n",
       "      <th></th>\n",
       "      <th>Class</th>\n",
       "      <th>Age</th>\n",
       "      <th>Menopause</th>\n",
       "      <th>Tumor-size</th>\n",
       "      <th>inv-nodes</th>\n",
       "      <th>node-caps</th>\n",
       "      <th>deg-malig</th>\n",
       "      <th>breast</th>\n",
       "      <th>breast-quad</th>\n",
       "      <th>irradiat</th>\n",
       "    </tr>\n",
       "  </thead>\n",
       "  <tbody>\n",
       "    <tr>\n",
       "      <th>67</th>\n",
       "      <td>0</td>\n",
       "      <td>3</td>\n",
       "      <td>0</td>\n",
       "      <td>3</td>\n",
       "      <td>0</td>\n",
       "      <td>0</td>\n",
       "      <td>3</td>\n",
       "      <td>0</td>\n",
       "      <td>2</td>\n",
       "      <td>0</td>\n",
       "    </tr>\n",
       "    <tr>\n",
       "      <th>118</th>\n",
       "      <td>0</td>\n",
       "      <td>1</td>\n",
       "      <td>2</td>\n",
       "      <td>1</td>\n",
       "      <td>0</td>\n",
       "      <td>0</td>\n",
       "      <td>1</td>\n",
       "      <td>1</td>\n",
       "      <td>1</td>\n",
       "      <td>0</td>\n",
       "    </tr>\n",
       "    <tr>\n",
       "      <th>33</th>\n",
       "      <td>0</td>\n",
       "      <td>3</td>\n",
       "      <td>0</td>\n",
       "      <td>1</td>\n",
       "      <td>0</td>\n",
       "      <td>0</td>\n",
       "      <td>1</td>\n",
       "      <td>1</td>\n",
       "      <td>2</td>\n",
       "      <td>0</td>\n",
       "    </tr>\n",
       "    <tr>\n",
       "      <th>122</th>\n",
       "      <td>0</td>\n",
       "      <td>3</td>\n",
       "      <td>0</td>\n",
       "      <td>7</td>\n",
       "      <td>0</td>\n",
       "      <td>0</td>\n",
       "      <td>3</td>\n",
       "      <td>0</td>\n",
       "      <td>2</td>\n",
       "      <td>0</td>\n",
       "    </tr>\n",
       "    <tr>\n",
       "      <th>49</th>\n",
       "      <td>0</td>\n",
       "      <td>2</td>\n",
       "      <td>2</td>\n",
       "      <td>3</td>\n",
       "      <td>0</td>\n",
       "      <td>0</td>\n",
       "      <td>1</td>\n",
       "      <td>1</td>\n",
       "      <td>1</td>\n",
       "      <td>0</td>\n",
       "    </tr>\n",
       "    <tr>\n",
       "      <th>143</th>\n",
       "      <td>0</td>\n",
       "      <td>2</td>\n",
       "      <td>2</td>\n",
       "      <td>8</td>\n",
       "      <td>0</td>\n",
       "      <td>0</td>\n",
       "      <td>2</td>\n",
       "      <td>0</td>\n",
       "      <td>1</td>\n",
       "      <td>1</td>\n",
       "    </tr>\n",
       "    <tr>\n",
       "      <th>172</th>\n",
       "      <td>0</td>\n",
       "      <td>4</td>\n",
       "      <td>0</td>\n",
       "      <td>5</td>\n",
       "      <td>5</td>\n",
       "      <td>1</td>\n",
       "      <td>2</td>\n",
       "      <td>1</td>\n",
       "      <td>4</td>\n",
       "      <td>0</td>\n",
       "    </tr>\n",
       "    <tr>\n",
       "      <th>141</th>\n",
       "      <td>0</td>\n",
       "      <td>3</td>\n",
       "      <td>2</td>\n",
       "      <td>3</td>\n",
       "      <td>4</td>\n",
       "      <td>1</td>\n",
       "      <td>2</td>\n",
       "      <td>0</td>\n",
       "      <td>1</td>\n",
       "      <td>0</td>\n",
       "    </tr>\n",
       "    <tr>\n",
       "      <th>65</th>\n",
       "      <td>0</td>\n",
       "      <td>2</td>\n",
       "      <td>2</td>\n",
       "      <td>1</td>\n",
       "      <td>0</td>\n",
       "      <td>0</td>\n",
       "      <td>1</td>\n",
       "      <td>1</td>\n",
       "      <td>2</td>\n",
       "      <td>0</td>\n",
       "    </tr>\n",
       "    <tr>\n",
       "      <th>131</th>\n",
       "      <td>0</td>\n",
       "      <td>2</td>\n",
       "      <td>2</td>\n",
       "      <td>7</td>\n",
       "      <td>4</td>\n",
       "      <td>1</td>\n",
       "      <td>3</td>\n",
       "      <td>1</td>\n",
       "      <td>2</td>\n",
       "      <td>1</td>\n",
       "    </tr>\n",
       "  </tbody>\n",
       "</table>\n",
       "</div>"
      ],
      "text/plain": [
       "     Class  Age  Menopause  Tumor-size  inv-nodes  node-caps  deg-malig  \\\n",
       "67       0    3          0           3          0          0          3   \n",
       "118      0    1          2           1          0          0          1   \n",
       "33       0    3          0           1          0          0          1   \n",
       "122      0    3          0           7          0          0          3   \n",
       "49       0    2          2           3          0          0          1   \n",
       "143      0    2          2           8          0          0          2   \n",
       "172      0    4          0           5          5          1          2   \n",
       "141      0    3          2           3          4          1          2   \n",
       "65       0    2          2           1          0          0          1   \n",
       "131      0    2          2           7          4          1          3   \n",
       "\n",
       "     breast  breast-quad  irradiat  \n",
       "67        0            2         0  \n",
       "118       1            1         0  \n",
       "33        1            2         0  \n",
       "122       0            2         0  \n",
       "49        1            1         0  \n",
       "143       0            1         1  \n",
       "172       1            4         0  \n",
       "141       0            1         0  \n",
       "65        1            2         0  \n",
       "131       1            2         1  "
      ]
     },
     "execution_count": 6,
     "metadata": {},
     "output_type": "execute_result"
    }
   ],
   "source": [
    "cancer_data.sample(10)"
   ]
  },
  {
   "cell_type": "code",
   "execution_count": 7,
   "id": "eb2d8859",
   "metadata": {},
   "outputs": [],
   "source": [
    "y=cancer_data['Class']\n",
    "x=cancer_data.drop('Class', axis=1)"
   ]
  },
  {
   "cell_type": "code",
   "execution_count": 8,
   "id": "56b0e6e2",
   "metadata": {},
   "outputs": [
    {
     "data": {
      "text/plain": [
       "((286, 9), (286,))"
      ]
     },
     "execution_count": 8,
     "metadata": {},
     "output_type": "execute_result"
    }
   ],
   "source": [
    "x.shape, y.shape"
   ]
  },
  {
   "cell_type": "code",
   "execution_count": 9,
   "id": "cdae9995",
   "metadata": {},
   "outputs": [],
   "source": [
    "skf=StratifiedKFold(n_splits=5, shuffle=True)"
   ]
  },
  {
   "cell_type": "code",
   "execution_count": 12,
   "id": "8ba6d18f",
   "metadata": {},
   "outputs": [
    {
     "name": "stdout",
     "output_type": "stream",
     "text": [
      "\n",
      "Train1 [ 0  1  3  4  6  7  8  9 11 12]\n",
      "Test1 [ 2  5 10 20 24 40 44 50 51 52]\n",
      "\n",
      "Train2 [ 0  2  5  7  8  9 10 12 13 15]\n",
      "Test2 [ 1  3  4  6 11 14 21 25 41 45]\n",
      "\n",
      "Train3 [ 0  1  2  3  4  5  6  8  9 10]\n",
      "Test3 [ 7 12 17 18 19 23 27 28 34 36]\n",
      "\n",
      "Train4 [ 1  2  3  4  5  6  7  8 10 11]\n",
      "Test4 [ 0  9 13 16 22 26 29 31 33 35]\n",
      "\n",
      "Train5 [ 0  1  2  3  4  5  6  7  9 10]\n",
      "Test5 [ 8 15 30 32 37 39 42 43 53 60]\n"
     ]
    }
   ],
   "source": [
    "i=1\n",
    "for train,test in skf.split(x,y):\n",
    "    print(\"\\nTrain\"+str(i), train[:10])\n",
    "    print('Test'+str(i),test[:10])\n",
    "    i+=1"
   ]
  },
  {
   "cell_type": "code",
   "execution_count": 13,
   "id": "5b598e0b",
   "metadata": {},
   "outputs": [],
   "source": [
    "skf=StratifiedKFold(n_splits=2)"
   ]
  },
  {
   "cell_type": "code",
   "execution_count": 14,
   "id": "4480ca95",
   "metadata": {},
   "outputs": [
    {
     "data": {
      "text/plain": [
       "[(array([101, 102, 103, 104, 105, 106, 107, 108, 109, 110, 111, 112, 113,\n",
       "         114, 115, 116, 117, 118, 119, 120, 121, 122, 123, 124, 125, 126,\n",
       "         127, 128, 129, 130, 131, 132, 133, 134, 135, 136, 137, 138, 139,\n",
       "         140, 141, 142, 143, 144, 145, 146, 147, 148, 149, 150, 151, 152,\n",
       "         153, 154, 155, 156, 157, 158, 159, 160, 161, 162, 163, 164, 165,\n",
       "         166, 167, 168, 169, 170, 171, 172, 173, 174, 175, 176, 177, 178,\n",
       "         179, 180, 181, 182, 183, 184, 185, 186, 187, 188, 189, 190, 191,\n",
       "         192, 193, 194, 195, 196, 197, 198, 199, 200, 243, 244, 245, 246,\n",
       "         247, 248, 249, 250, 251, 252, 253, 254, 255, 256, 257, 258, 259,\n",
       "         260, 261, 262, 263, 264, 265, 266, 267, 268, 269, 270, 271, 272,\n",
       "         273, 274, 275, 276, 277, 278, 279, 280, 281, 282, 283, 284, 285]),\n",
       "  array([  0,   1,   2,   3,   4,   5,   6,   7,   8,   9,  10,  11,  12,\n",
       "          13,  14,  15,  16,  17,  18,  19,  20,  21,  22,  23,  24,  25,\n",
       "          26,  27,  28,  29,  30,  31,  32,  33,  34,  35,  36,  37,  38,\n",
       "          39,  40,  41,  42,  43,  44,  45,  46,  47,  48,  49,  50,  51,\n",
       "          52,  53,  54,  55,  56,  57,  58,  59,  60,  61,  62,  63,  64,\n",
       "          65,  66,  67,  68,  69,  70,  71,  72,  73,  74,  75,  76,  77,\n",
       "          78,  79,  80,  81,  82,  83,  84,  85,  86,  87,  88,  89,  90,\n",
       "          91,  92,  93,  94,  95,  96,  97,  98,  99, 100, 201, 202, 203,\n",
       "         204, 205, 206, 207, 208, 209, 210, 211, 212, 213, 214, 215, 216,\n",
       "         217, 218, 219, 220, 221, 222, 223, 224, 225, 226, 227, 228, 229,\n",
       "         230, 231, 232, 233, 234, 235, 236, 237, 238, 239, 240, 241, 242])),\n",
       " (array([  0,   1,   2,   3,   4,   5,   6,   7,   8,   9,  10,  11,  12,\n",
       "          13,  14,  15,  16,  17,  18,  19,  20,  21,  22,  23,  24,  25,\n",
       "          26,  27,  28,  29,  30,  31,  32,  33,  34,  35,  36,  37,  38,\n",
       "          39,  40,  41,  42,  43,  44,  45,  46,  47,  48,  49,  50,  51,\n",
       "          52,  53,  54,  55,  56,  57,  58,  59,  60,  61,  62,  63,  64,\n",
       "          65,  66,  67,  68,  69,  70,  71,  72,  73,  74,  75,  76,  77,\n",
       "          78,  79,  80,  81,  82,  83,  84,  85,  86,  87,  88,  89,  90,\n",
       "          91,  92,  93,  94,  95,  96,  97,  98,  99, 100, 201, 202, 203,\n",
       "         204, 205, 206, 207, 208, 209, 210, 211, 212, 213, 214, 215, 216,\n",
       "         217, 218, 219, 220, 221, 222, 223, 224, 225, 226, 227, 228, 229,\n",
       "         230, 231, 232, 233, 234, 235, 236, 237, 238, 239, 240, 241, 242]),\n",
       "  array([101, 102, 103, 104, 105, 106, 107, 108, 109, 110, 111, 112, 113,\n",
       "         114, 115, 116, 117, 118, 119, 120, 121, 122, 123, 124, 125, 126,\n",
       "         127, 128, 129, 130, 131, 132, 133, 134, 135, 136, 137, 138, 139,\n",
       "         140, 141, 142, 143, 144, 145, 146, 147, 148, 149, 150, 151, 152,\n",
       "         153, 154, 155, 156, 157, 158, 159, 160, 161, 162, 163, 164, 165,\n",
       "         166, 167, 168, 169, 170, 171, 172, 173, 174, 175, 176, 177, 178,\n",
       "         179, 180, 181, 182, 183, 184, 185, 186, 187, 188, 189, 190, 191,\n",
       "         192, 193, 194, 195, 196, 197, 198, 199, 200, 243, 244, 245, 246,\n",
       "         247, 248, 249, 250, 251, 252, 253, 254, 255, 256, 257, 258, 259,\n",
       "         260, 261, 262, 263, 264, 265, 266, 267, 268, 269, 270, 271, 272,\n",
       "         273, 274, 275, 276, 277, 278, 279, 280, 281, 282, 283, 284, 285]))]"
      ]
     },
     "execution_count": 14,
     "metadata": {},
     "output_type": "execute_result"
    }
   ],
   "source": [
    "indices_list = list(skf.split(x,y))\n",
    "indices_list"
   ]
  },
  {
   "cell_type": "code",
   "execution_count": 19,
   "id": "a8fa20aa",
   "metadata": {},
   "outputs": [],
   "source": [
    "x_train1, y_train1 = x.loc[indices_list[0][0]], y[indices_list[0][0]]\n",
    "x_test1, y_test1 = x.loc[indices_list[0][1]], y[indices_list[0][1]]\n",
    "\n",
    "x_train2, y_train2 = x.loc[indices_list[1][0]], y[indices_list[1][0]]\n",
    "x_test2, y_test2 = x.loc[indices_list[1][1]], y[indices_list[1][1]]"
   ]
  },
  {
   "cell_type": "code",
   "execution_count": 20,
   "id": "8df8cacd",
   "metadata": {},
   "outputs": [
    {
     "data": {
      "text/plain": [
       "0.7412587412587412"
      ]
     },
     "execution_count": 20,
     "metadata": {},
     "output_type": "execute_result"
    }
   ],
   "source": [
    "reg=LogisticRegression(solver='liblinear',C=1).fit(x_train1,y_train1)\n",
    "reg.score(x_test1,y_test1)"
   ]
  },
  {
   "cell_type": "code",
   "execution_count": 21,
   "id": "6933f572",
   "metadata": {},
   "outputs": [
    {
     "data": {
      "text/plain": [
       "0.5664335664335665"
      ]
     },
     "execution_count": 21,
     "metadata": {},
     "output_type": "execute_result"
    }
   ],
   "source": [
    "reg=LogisticRegression(solver='liblinear',C=1).fit(x_train2,y_train2)\n",
    "reg.score(x_test2,y_test2)"
   ]
  },
  {
   "cell_type": "code",
   "execution_count": 23,
   "id": "3513e8f7",
   "metadata": {},
   "outputs": [
    {
     "data": {
      "text/plain": [
       "array([0.74125874, 0.56643357])"
      ]
     },
     "execution_count": 23,
     "metadata": {},
     "output_type": "execute_result"
    }
   ],
   "source": [
    "cross_val_score(reg,x,y,cv=skf)"
   ]
  },
  {
   "cell_type": "code",
   "execution_count": 25,
   "id": "26f6fc81",
   "metadata": {},
   "outputs": [
    {
     "data": {
      "text/plain": [
       "dict_keys(['explained_variance', 'r2', 'max_error', 'matthews_corrcoef', 'neg_median_absolute_error', 'neg_mean_absolute_error', 'neg_mean_absolute_percentage_error', 'neg_mean_squared_error', 'neg_mean_squared_log_error', 'neg_root_mean_squared_error', 'neg_mean_poisson_deviance', 'neg_mean_gamma_deviance', 'accuracy', 'top_k_accuracy', 'roc_auc', 'roc_auc_ovr', 'roc_auc_ovo', 'roc_auc_ovr_weighted', 'roc_auc_ovo_weighted', 'balanced_accuracy', 'average_precision', 'neg_log_loss', 'neg_brier_score', 'adjusted_rand_score', 'rand_score', 'homogeneity_score', 'completeness_score', 'v_measure_score', 'mutual_info_score', 'adjusted_mutual_info_score', 'normalized_mutual_info_score', 'fowlkes_mallows_score', 'precision', 'precision_macro', 'precision_micro', 'precision_samples', 'precision_weighted', 'recall', 'recall_macro', 'recall_micro', 'recall_samples', 'recall_weighted', 'f1', 'f1_macro', 'f1_micro', 'f1_samples', 'f1_weighted', 'jaccard', 'jaccard_macro', 'jaccard_micro', 'jaccard_samples', 'jaccard_weighted'])"
      ]
     },
     "execution_count": 25,
     "metadata": {},
     "output_type": "execute_result"
    }
   ],
   "source": [
    "sk.metrics.SCORERS.keys()"
   ]
  },
  {
   "cell_type": "code",
   "execution_count": 31,
   "id": "6fc0a4ff",
   "metadata": {},
   "outputs": [
    {
     "data": {
      "text/plain": [
       "{'fit_time': array([0.0033288 , 0.00299048]),\n",
       " 'score_time': array([0.00576019, 0.00272536]),\n",
       " 'test_precision': array([0.85714286, 0.38554217]),\n",
       " 'train_precision': array([0.76      , 0.94117647]),\n",
       " 'test_recall': array([0.14285714, 0.74418605]),\n",
       " 'train_recall': array([0.44186047, 0.38095238])}"
      ]
     },
     "execution_count": 31,
     "metadata": {},
     "output_type": "execute_result"
    }
   ],
   "source": [
    "scoring=['precision', 'recall']\n",
    "cross_validate(reg,x,y,scoring=scoring,cv=skf, return_train_score=True)"
   ]
  },
  {
   "cell_type": "code",
   "execution_count": null,
   "id": "3bfad9cb",
   "metadata": {},
   "outputs": [],
   "source": []
  }
 ],
 "metadata": {
  "kernelspec": {
   "display_name": "Python 3 (ipykernel)",
   "language": "python",
   "name": "python3"
  },
  "language_info": {
   "codemirror_mode": {
    "name": "ipython",
    "version": 3
   },
   "file_extension": ".py",
   "mimetype": "text/x-python",
   "name": "python",
   "nbconvert_exporter": "python",
   "pygments_lexer": "ipython3",
   "version": "3.9.12"
  }
 },
 "nbformat": 4,
 "nbformat_minor": 5
}
