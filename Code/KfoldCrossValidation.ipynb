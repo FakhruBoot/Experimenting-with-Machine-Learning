{
 "cells": [
  {
   "cell_type": "code",
   "execution_count": 3,
   "id": "807506b3",
   "metadata": {},
   "outputs": [],
   "source": [
    "import sklearn as sk\n",
    "import pandas as pd\n",
    "import numpy as np\n",
    "from sklearn.linear_model import LinearRegression\n",
    "from sklearn.model_selection import KFold, cross_val_score"
   ]
  },
  {
   "cell_type": "code",
   "execution_count": 4,
   "id": "33661b6d",
   "metadata": {},
   "outputs": [],
   "source": [
    "houseprice=pd.read_csv(r'C:\\Users\\fakhr\\Experimental_design_for_data_analysis\\Dataset\\kc_house_cleaned.csv')"
   ]
  },
  {
   "cell_type": "code",
   "execution_count": 6,
   "id": "b7caca32",
   "metadata": {},
   "outputs": [],
   "source": [
    "y=np.array(houseprice['price'], dtype='float64')    # Converts y to an array  and y is our dataset which has the outputs"
   ]
  },
  {
   "cell_type": "code",
   "execution_count": 7,
   "id": "1cdf4be8",
   "metadata": {},
   "outputs": [
    {
     "data": {
      "text/plain": [
       "(21611,)"
      ]
     },
     "execution_count": 7,
     "metadata": {},
     "output_type": "execute_result"
    }
   ],
   "source": [
    "y.shape"
   ]
  },
  {
   "cell_type": "code",
   "execution_count": 8,
   "id": "20bdf332",
   "metadata": {},
   "outputs": [
    {
     "data": {
      "text/plain": [
       "(21611, 1)"
      ]
     },
     "execution_count": 8,
     "metadata": {},
     "output_type": "execute_result"
    }
   ],
   "source": [
    "y=y.reshape(-1,1)     #converts y to a 2D array\n",
    "y.shape"
   ]
  },
  {
   "cell_type": "code",
   "execution_count": 9,
   "id": "dcd37d47",
   "metadata": {},
   "outputs": [],
   "source": [
    "x=houseprice.drop('price',axis=1)"
   ]
  },
  {
   "cell_type": "code",
   "execution_count": 11,
   "id": "519e300b",
   "metadata": {},
   "outputs": [],
   "source": [
    "x=np.array(x)"
   ]
  },
  {
   "cell_type": "code",
   "execution_count": 12,
   "id": "47141b5a",
   "metadata": {},
   "outputs": [
    {
     "data": {
      "text/plain": [
       "((21611, 16), (21611, 1))"
      ]
     },
     "execution_count": 12,
     "metadata": {},
     "output_type": "execute_result"
    }
   ],
   "source": [
    "x.shape, y.shape    #both are 2D arrays. 2D array is required for our linear regression model"
   ]
  },
  {
   "cell_type": "code",
   "execution_count": 14,
   "id": "c37abcf3",
   "metadata": {},
   "outputs": [],
   "source": [
    "kf = KFold(n_splits=3)    #var will be used to split the data to 3 subsets"
   ]
  },
  {
   "cell_type": "code",
   "execution_count": 15,
   "id": "b4e0caa8",
   "metadata": {},
   "outputs": [
    {
     "data": {
      "text/plain": [
       "[(array([ 7204,  7205,  7206, ..., 21608, 21609, 21610]),\n",
       "  array([   0,    1,    2, ..., 7201, 7202, 7203])),\n",
       " (array([    0,     1,     2, ..., 21608, 21609, 21610]),\n",
       "  array([ 7204,  7205,  7206, ..., 14405, 14406, 14407])),\n",
       " (array([    0,     1,     2, ..., 14405, 14406, 14407]),\n",
       "  array([14408, 14409, 14410, ..., 21608, 21609, 21610]))]"
      ]
     },
     "execution_count": 15,
     "metadata": {},
     "output_type": "execute_result"
    }
   ],
   "source": [
    "list(kf.split(x))    # splits our x array into 3 arrays.  2 will be used to train and one will be used to test"
   ]
  },
  {
   "cell_type": "code",
   "execution_count": 16,
   "id": "5a2cad44",
   "metadata": {},
   "outputs": [
    {
     "name": "stdout",
     "output_type": "stream",
     "text": [
      "\n",
      "Train1 [ 7204  7205  7206 ... 21608 21609 21610]\n",
      "Test1 [   0    1    2 ... 7201 7202 7203]\n",
      "\n",
      "Train2 [    0     1     2 ... 21608 21609 21610]\n",
      "Test2 [ 7204  7205  7206 ... 14405 14406 14407]\n",
      "\n",
      "Train3 [    0     1     2 ... 14405 14406 14407]\n",
      "Test3 [14408 14409 14410 ... 21608 21609 21610]\n"
     ]
    }
   ],
   "source": [
    "i=1                   \n",
    "for train,test in kf.split(x):\n",
    "    print(\"\\nTrain\"+str(i),train)\n",
    "    print(\"Test\"+str(i),test)\n",
    "    i+=1\n",
    "    \n",
    " # it automatically turns the data into training and testing. All except one are used to train the model, \n",
    " # whereas one is used to test the mode. Can be seen in below output"
   ]
  },
  {
   "cell_type": "code",
   "execution_count": 17,
   "id": "2573deae",
   "metadata": {},
   "outputs": [
    {
     "data": {
      "text/plain": [
       "(21611, 14408, 7203)"
      ]
     },
     "execution_count": 17,
     "metadata": {},
     "output_type": "execute_result"
    }
   ],
   "source": [
    "len(x), len(train), len(test)      # this shows how train and test is created using KFold function"
   ]
  },
  {
   "cell_type": "code",
   "execution_count": 18,
   "id": "651e715d",
   "metadata": {},
   "outputs": [
    {
     "data": {
      "text/plain": [
       "[(array([10806, 10807, 10808, ..., 21608, 21609, 21610]),\n",
       "  array([    0,     1,     2, ..., 10803, 10804, 10805])),\n",
       " (array([    0,     1,     2, ..., 10803, 10804, 10805]),\n",
       "  array([10806, 10807, 10808, ..., 21608, 21609, 21610]))]"
      ]
     },
     "execution_count": 18,
     "metadata": {},
     "output_type": "execute_result"
    }
   ],
   "source": [
    " # we will train our model with only one training and test data\n",
    "\n",
    "kf=KFold(n_splits=2)\n",
    "indices_list=list(kf.split(x))\n",
    "indices_list"
   ]
  },
  {
   "cell_type": "code",
   "execution_count": 20,
   "id": "f48409f2",
   "metadata": {},
   "outputs": [
    {
     "data": {
      "text/plain": [
       "(array([    0,     1,     2, ..., 10803, 10804, 10805]),\n",
       " array([10806, 10807, 10808, ..., 21608, 21609, 21610]))"
      ]
     },
     "execution_count": 20,
     "metadata": {},
     "output_type": "execute_result"
    }
   ],
   "source": [
    "indices_list[1]"
   ]
  },
  {
   "cell_type": "code",
   "execution_count": 22,
   "id": "8192ce3f",
   "metadata": {},
   "outputs": [],
   "source": [
    "x_train1, y_train1 = x[indices_list[0][0]], y[indices_list[0][0]]\n",
    "x_test1, y_test1 = x[indices_list[0][1]], y[indices_list[0][1]]\n",
    "\n",
    "x_train2, y_train2 = x[indices_list[1][0]], y[indices_list[1][0]]\n",
    "x_test2, y_test2 = x[indices_list[1][1]], y[indices_list[1][1]]"
   ]
  },
  {
   "cell_type": "code",
   "execution_count": 23,
   "id": "6b8967d4",
   "metadata": {},
   "outputs": [
    {
     "data": {
      "text/plain": [
       "((10806, 16), (10806, 1))"
      ]
     },
     "execution_count": 23,
     "metadata": {},
     "output_type": "execute_result"
    }
   ],
   "source": [
    "x_test1.shape, y_test1.shape"
   ]
  },
  {
   "cell_type": "code",
   "execution_count": 26,
   "id": "ba60c67b",
   "metadata": {},
   "outputs": [
    {
     "data": {
      "text/plain": [
       "((10805, 16), (10805, 1))"
      ]
     },
     "execution_count": 26,
     "metadata": {},
     "output_type": "execute_result"
    }
   ],
   "source": [
    "x_train1.shape, y_train1.shape"
   ]
  },
  {
   "cell_type": "code",
   "execution_count": 27,
   "id": "80f2edff",
   "metadata": {},
   "outputs": [
    {
     "data": {
      "text/plain": [
       "0.6394506691446753"
      ]
     },
     "execution_count": 27,
     "metadata": {},
     "output_type": "execute_result"
    }
   ],
   "source": [
    "reg=LinearRegression().fit(x_train1, y_train1)\n",
    "reg.score(x_test1, y_test1)"
   ]
  },
  {
   "cell_type": "code",
   "execution_count": 33,
   "id": "023f2172",
   "metadata": {},
   "outputs": [
    {
     "data": {
      "text/plain": [
       "0.6440439140053222"
      ]
     },
     "execution_count": 33,
     "metadata": {},
     "output_type": "execute_result"
    }
   ],
   "source": [
    "reg=LinearRegression().fit(x_train2, y_train2)\n",
    "reg.score(x_test2, y_test2)"
   ]
  },
  {
   "cell_type": "code",
   "execution_count": 32,
   "id": "f3924d14",
   "metadata": {},
   "outputs": [
    {
     "data": {
      "text/plain": [
       "array([0.63945067, 0.64404391])"
      ]
     },
     "execution_count": 32,
     "metadata": {},
     "output_type": "execute_result"
    }
   ],
   "source": [
    "cross_val_score(reg,x,y,cv=2)    # similar to what we did above but more easy. If you see the score matches as well"
   ]
  }
 ],
 "metadata": {
  "kernelspec": {
   "display_name": "Python 3 (ipykernel)",
   "language": "python",
   "name": "python3"
  },
  "language_info": {
   "codemirror_mode": {
    "name": "ipython",
    "version": 3
   },
   "file_extension": ".py",
   "mimetype": "text/x-python",
   "name": "python",
   "nbconvert_exporter": "python",
   "pygments_lexer": "ipython3",
   "version": "3.9.12"
  }
 },
 "nbformat": 4,
 "nbformat_minor": 5
}
