{
 "cells": [
  {
   "cell_type": "markdown",
   "id": "e8fad054",
   "metadata": {},
   "source": [
    "## Creating a ML model to predict price of a house after cleaning the data "
   ]
  },
  {
   "cell_type": "code",
   "execution_count": 1,
   "id": "584e8e72",
   "metadata": {},
   "outputs": [],
   "source": [
    "import pandas as pd\n",
    "import numpy as np\n",
    "import seaborn as sns\n",
    "import matplotlib.pyplot as plt\n",
    "from sklearn.model_selection import train_test_split\n",
    "from sklearn.linear_model import LinearRegression"
   ]
  },
  {
   "cell_type": "code",
   "execution_count": 2,
   "id": "d180cbc8",
   "metadata": {},
   "outputs": [],
   "source": [
    "kc_data = pd.read_csv(r'C:\\Users\\fakhr\\Experimental_design_for_data_analysis\\Dataset\\kc_house_data.csv')"
   ]
  },
  {
   "cell_type": "code",
   "execution_count": 3,
   "id": "df3c3a18",
   "metadata": {},
   "outputs": [
    {
     "data": {
      "text/html": [
       "<div>\n",
       "<style scoped>\n",
       "    .dataframe tbody tr th:only-of-type {\n",
       "        vertical-align: middle;\n",
       "    }\n",
       "\n",
       "    .dataframe tbody tr th {\n",
       "        vertical-align: top;\n",
       "    }\n",
       "\n",
       "    .dataframe thead th {\n",
       "        text-align: right;\n",
       "    }\n",
       "</style>\n",
       "<table border=\"1\" class=\"dataframe\">\n",
       "  <thead>\n",
       "    <tr style=\"text-align: right;\">\n",
       "      <th></th>\n",
       "      <th>id</th>\n",
       "      <th>date</th>\n",
       "      <th>price</th>\n",
       "      <th>bedrooms</th>\n",
       "      <th>bathrooms</th>\n",
       "      <th>sqft_living</th>\n",
       "      <th>sqft_lot</th>\n",
       "      <th>floors</th>\n",
       "      <th>waterfront</th>\n",
       "      <th>view</th>\n",
       "      <th>...</th>\n",
       "      <th>grade</th>\n",
       "      <th>sqft_above</th>\n",
       "      <th>sqft_basement</th>\n",
       "      <th>yr_built</th>\n",
       "      <th>yr_renovated</th>\n",
       "      <th>zipcode</th>\n",
       "      <th>lat</th>\n",
       "      <th>long</th>\n",
       "      <th>sqft_living15</th>\n",
       "      <th>sqft_lot15</th>\n",
       "    </tr>\n",
       "  </thead>\n",
       "  <tbody>\n",
       "    <tr>\n",
       "      <th>7870</th>\n",
       "      <td>7203100120</td>\n",
       "      <td>20140616T000000</td>\n",
       "      <td>680000.0</td>\n",
       "      <td>4</td>\n",
       "      <td>2.75</td>\n",
       "      <td>2500</td>\n",
       "      <td>4950</td>\n",
       "      <td>2.0</td>\n",
       "      <td>0</td>\n",
       "      <td>0</td>\n",
       "      <td>...</td>\n",
       "      <td>8</td>\n",
       "      <td>2500.0</td>\n",
       "      <td>0</td>\n",
       "      <td>2010</td>\n",
       "      <td>0</td>\n",
       "      <td>98053</td>\n",
       "      <td>47.6964</td>\n",
       "      <td>-122.017</td>\n",
       "      <td>2500</td>\n",
       "      <td>4950</td>\n",
       "    </tr>\n",
       "    <tr>\n",
       "      <th>12372</th>\n",
       "      <td>5244800695</td>\n",
       "      <td>20140616T000000</td>\n",
       "      <td>524000.0</td>\n",
       "      <td>2</td>\n",
       "      <td>1.00</td>\n",
       "      <td>1120</td>\n",
       "      <td>2000</td>\n",
       "      <td>1.5</td>\n",
       "      <td>0</td>\n",
       "      <td>0</td>\n",
       "      <td>...</td>\n",
       "      <td>7</td>\n",
       "      <td>1120.0</td>\n",
       "      <td>0</td>\n",
       "      <td>1910</td>\n",
       "      <td>0</td>\n",
       "      <td>98109</td>\n",
       "      <td>47.6454</td>\n",
       "      <td>-122.354</td>\n",
       "      <td>1500</td>\n",
       "      <td>4000</td>\n",
       "    </tr>\n",
       "    <tr>\n",
       "      <th>5700</th>\n",
       "      <td>5540000010</td>\n",
       "      <td>20140815T000000</td>\n",
       "      <td>259950.0</td>\n",
       "      <td>3</td>\n",
       "      <td>1.50</td>\n",
       "      <td>1350</td>\n",
       "      <td>7827</td>\n",
       "      <td>1.0</td>\n",
       "      <td>0</td>\n",
       "      <td>0</td>\n",
       "      <td>...</td>\n",
       "      <td>7</td>\n",
       "      <td>1350.0</td>\n",
       "      <td>0</td>\n",
       "      <td>1968</td>\n",
       "      <td>0</td>\n",
       "      <td>98030</td>\n",
       "      <td>47.3786</td>\n",
       "      <td>-122.219</td>\n",
       "      <td>1900</td>\n",
       "      <td>7827</td>\n",
       "    </tr>\n",
       "    <tr>\n",
       "      <th>5165</th>\n",
       "      <td>6673050020</td>\n",
       "      <td>20150401T000000</td>\n",
       "      <td>300000.0</td>\n",
       "      <td>6</td>\n",
       "      <td>2.50</td>\n",
       "      <td>2590</td>\n",
       "      <td>11250</td>\n",
       "      <td>1.0</td>\n",
       "      <td>0</td>\n",
       "      <td>0</td>\n",
       "      <td>...</td>\n",
       "      <td>8</td>\n",
       "      <td>1390.0</td>\n",
       "      <td>1200</td>\n",
       "      <td>1978</td>\n",
       "      <td>0</td>\n",
       "      <td>98055</td>\n",
       "      <td>47.4608</td>\n",
       "      <td>-122.196</td>\n",
       "      <td>2270</td>\n",
       "      <td>8360</td>\n",
       "    </tr>\n",
       "    <tr>\n",
       "      <th>15966</th>\n",
       "      <td>6641020050</td>\n",
       "      <td>20140618T000000</td>\n",
       "      <td>630000.0</td>\n",
       "      <td>4</td>\n",
       "      <td>2.50</td>\n",
       "      <td>2807</td>\n",
       "      <td>9430</td>\n",
       "      <td>2.0</td>\n",
       "      <td>0</td>\n",
       "      <td>0</td>\n",
       "      <td>...</td>\n",
       "      <td>8</td>\n",
       "      <td>2807.0</td>\n",
       "      <td>0</td>\n",
       "      <td>1996</td>\n",
       "      <td>0</td>\n",
       "      <td>98028</td>\n",
       "      <td>47.7449</td>\n",
       "      <td>-122.223</td>\n",
       "      <td>2028</td>\n",
       "      <td>11056</td>\n",
       "    </tr>\n",
       "    <tr>\n",
       "      <th>9110</th>\n",
       "      <td>8650700090</td>\n",
       "      <td>20140813T000000</td>\n",
       "      <td>1052500.0</td>\n",
       "      <td>4</td>\n",
       "      <td>2.75</td>\n",
       "      <td>3950</td>\n",
       "      <td>12840</td>\n",
       "      <td>2.0</td>\n",
       "      <td>0</td>\n",
       "      <td>0</td>\n",
       "      <td>...</td>\n",
       "      <td>8</td>\n",
       "      <td>3950.0</td>\n",
       "      <td>0</td>\n",
       "      <td>1960</td>\n",
       "      <td>0</td>\n",
       "      <td>98040</td>\n",
       "      <td>47.5489</td>\n",
       "      <td>-122.219</td>\n",
       "      <td>2350</td>\n",
       "      <td>12507</td>\n",
       "    </tr>\n",
       "    <tr>\n",
       "      <th>11479</th>\n",
       "      <td>3904990260</td>\n",
       "      <td>20140724T000000</td>\n",
       "      <td>545800.0</td>\n",
       "      <td>4</td>\n",
       "      <td>2.50</td>\n",
       "      <td>1980</td>\n",
       "      <td>4500</td>\n",
       "      <td>2.0</td>\n",
       "      <td>0</td>\n",
       "      <td>0</td>\n",
       "      <td>...</td>\n",
       "      <td>8</td>\n",
       "      <td>1980.0</td>\n",
       "      <td>0</td>\n",
       "      <td>1989</td>\n",
       "      <td>0</td>\n",
       "      <td>98029</td>\n",
       "      <td>47.5790</td>\n",
       "      <td>-122.001</td>\n",
       "      <td>1770</td>\n",
       "      <td>4595</td>\n",
       "    </tr>\n",
       "    <tr>\n",
       "      <th>6386</th>\n",
       "      <td>8850000285</td>\n",
       "      <td>20140612T000000</td>\n",
       "      <td>350000.0</td>\n",
       "      <td>4</td>\n",
       "      <td>2.25</td>\n",
       "      <td>2300</td>\n",
       "      <td>4600</td>\n",
       "      <td>1.5</td>\n",
       "      <td>0</td>\n",
       "      <td>0</td>\n",
       "      <td>...</td>\n",
       "      <td>7</td>\n",
       "      <td>1340.0</td>\n",
       "      <td>960</td>\n",
       "      <td>1904</td>\n",
       "      <td>0</td>\n",
       "      <td>98144</td>\n",
       "      <td>47.5895</td>\n",
       "      <td>-122.311</td>\n",
       "      <td>1540</td>\n",
       "      <td>3000</td>\n",
       "    </tr>\n",
       "    <tr>\n",
       "      <th>48</th>\n",
       "      <td>9215400105</td>\n",
       "      <td>20150428T000000</td>\n",
       "      <td>450000.0</td>\n",
       "      <td>3</td>\n",
       "      <td>1.75</td>\n",
       "      <td>1250</td>\n",
       "      <td>5963</td>\n",
       "      <td>1.0</td>\n",
       "      <td>0</td>\n",
       "      <td>0</td>\n",
       "      <td>...</td>\n",
       "      <td>7</td>\n",
       "      <td>1250.0</td>\n",
       "      <td>0</td>\n",
       "      <td>1953</td>\n",
       "      <td>0</td>\n",
       "      <td>98115</td>\n",
       "      <td>47.6796</td>\n",
       "      <td>-122.301</td>\n",
       "      <td>970</td>\n",
       "      <td>5100</td>\n",
       "    </tr>\n",
       "    <tr>\n",
       "      <th>9127</th>\n",
       "      <td>6303400981</td>\n",
       "      <td>20150113T000000</td>\n",
       "      <td>190000.0</td>\n",
       "      <td>3</td>\n",
       "      <td>1.75</td>\n",
       "      <td>1160</td>\n",
       "      <td>5850</td>\n",
       "      <td>1.0</td>\n",
       "      <td>0</td>\n",
       "      <td>0</td>\n",
       "      <td>...</td>\n",
       "      <td>6</td>\n",
       "      <td>1160.0</td>\n",
       "      <td>0</td>\n",
       "      <td>1918</td>\n",
       "      <td>0</td>\n",
       "      <td>98146</td>\n",
       "      <td>47.5064</td>\n",
       "      <td>-122.356</td>\n",
       "      <td>1110</td>\n",
       "      <td>8382</td>\n",
       "    </tr>\n",
       "  </tbody>\n",
       "</table>\n",
       "<p>10 rows × 21 columns</p>\n",
       "</div>"
      ],
      "text/plain": [
       "               id             date      price  bedrooms  bathrooms  \\\n",
       "7870   7203100120  20140616T000000   680000.0         4       2.75   \n",
       "12372  5244800695  20140616T000000   524000.0         2       1.00   \n",
       "5700   5540000010  20140815T000000   259950.0         3       1.50   \n",
       "5165   6673050020  20150401T000000   300000.0         6       2.50   \n",
       "15966  6641020050  20140618T000000   630000.0         4       2.50   \n",
       "9110   8650700090  20140813T000000  1052500.0         4       2.75   \n",
       "11479  3904990260  20140724T000000   545800.0         4       2.50   \n",
       "6386   8850000285  20140612T000000   350000.0         4       2.25   \n",
       "48     9215400105  20150428T000000   450000.0         3       1.75   \n",
       "9127   6303400981  20150113T000000   190000.0         3       1.75   \n",
       "\n",
       "       sqft_living  sqft_lot  floors  waterfront  view  ...  grade  \\\n",
       "7870          2500      4950     2.0           0     0  ...      8   \n",
       "12372         1120      2000     1.5           0     0  ...      7   \n",
       "5700          1350      7827     1.0           0     0  ...      7   \n",
       "5165          2590     11250     1.0           0     0  ...      8   \n",
       "15966         2807      9430     2.0           0     0  ...      8   \n",
       "9110          3950     12840     2.0           0     0  ...      8   \n",
       "11479         1980      4500     2.0           0     0  ...      8   \n",
       "6386          2300      4600     1.5           0     0  ...      7   \n",
       "48            1250      5963     1.0           0     0  ...      7   \n",
       "9127          1160      5850     1.0           0     0  ...      6   \n",
       "\n",
       "       sqft_above  sqft_basement  yr_built  yr_renovated  zipcode      lat  \\\n",
       "7870       2500.0              0      2010             0    98053  47.6964   \n",
       "12372      1120.0              0      1910             0    98109  47.6454   \n",
       "5700       1350.0              0      1968             0    98030  47.3786   \n",
       "5165       1390.0           1200      1978             0    98055  47.4608   \n",
       "15966      2807.0              0      1996             0    98028  47.7449   \n",
       "9110       3950.0              0      1960             0    98040  47.5489   \n",
       "11479      1980.0              0      1989             0    98029  47.5790   \n",
       "6386       1340.0            960      1904             0    98144  47.5895   \n",
       "48         1250.0              0      1953             0    98115  47.6796   \n",
       "9127       1160.0              0      1918             0    98146  47.5064   \n",
       "\n",
       "          long  sqft_living15  sqft_lot15  \n",
       "7870  -122.017           2500        4950  \n",
       "12372 -122.354           1500        4000  \n",
       "5700  -122.219           1900        7827  \n",
       "5165  -122.196           2270        8360  \n",
       "15966 -122.223           2028       11056  \n",
       "9110  -122.219           2350       12507  \n",
       "11479 -122.001           1770        4595  \n",
       "6386  -122.311           1540        3000  \n",
       "48    -122.301            970        5100  \n",
       "9127  -122.356           1110        8382  \n",
       "\n",
       "[10 rows x 21 columns]"
      ]
     },
     "execution_count": 3,
     "metadata": {},
     "output_type": "execute_result"
    }
   ],
   "source": [
    "kc_data.sample(10)"
   ]
  },
  {
   "cell_type": "code",
   "execution_count": 4,
   "id": "01d1a082",
   "metadata": {},
   "outputs": [
    {
     "data": {
      "text/plain": [
       "(21613, 21)"
      ]
     },
     "execution_count": 4,
     "metadata": {},
     "output_type": "execute_result"
    }
   ],
   "source": [
    "kc_data.shape   # getting structure of data"
   ]
  },
  {
   "cell_type": "code",
   "execution_count": 5,
   "id": "9e005344",
   "metadata": {},
   "outputs": [],
   "source": [
    "kc_data = kc_data.drop([\"id\", \"date\", \"zipcode\", \"lat\", \"long\"], axis=1)  # dropping unwanted columns\n"
   ]
  },
  {
   "cell_type": "code",
   "execution_count": 6,
   "id": "d2ad5bc1",
   "metadata": {},
   "outputs": [
    {
     "data": {
      "text/html": [
       "<div>\n",
       "<style scoped>\n",
       "    .dataframe tbody tr th:only-of-type {\n",
       "        vertical-align: middle;\n",
       "    }\n",
       "\n",
       "    .dataframe tbody tr th {\n",
       "        vertical-align: top;\n",
       "    }\n",
       "\n",
       "    .dataframe thead th {\n",
       "        text-align: right;\n",
       "    }\n",
       "</style>\n",
       "<table border=\"1\" class=\"dataframe\">\n",
       "  <thead>\n",
       "    <tr style=\"text-align: right;\">\n",
       "      <th></th>\n",
       "      <th>price</th>\n",
       "      <th>bedrooms</th>\n",
       "      <th>bathrooms</th>\n",
       "      <th>sqft_living</th>\n",
       "      <th>sqft_lot</th>\n",
       "      <th>floors</th>\n",
       "      <th>waterfront</th>\n",
       "      <th>view</th>\n",
       "      <th>condition</th>\n",
       "      <th>grade</th>\n",
       "      <th>sqft_above</th>\n",
       "      <th>sqft_basement</th>\n",
       "      <th>yr_built</th>\n",
       "      <th>yr_renovated</th>\n",
       "      <th>sqft_living15</th>\n",
       "      <th>sqft_lot15</th>\n",
       "    </tr>\n",
       "  </thead>\n",
       "  <tbody>\n",
       "    <tr>\n",
       "      <th>512</th>\n",
       "      <td>1095000.0</td>\n",
       "      <td>5</td>\n",
       "      <td>3.50</td>\n",
       "      <td>4410</td>\n",
       "      <td>57063</td>\n",
       "      <td>2.0</td>\n",
       "      <td>0</td>\n",
       "      <td>0</td>\n",
       "      <td>4</td>\n",
       "      <td>9</td>\n",
       "      <td>4410.0</td>\n",
       "      <td>0</td>\n",
       "      <td>1990</td>\n",
       "      <td>0</td>\n",
       "      <td>2900</td>\n",
       "      <td>50529</td>\n",
       "    </tr>\n",
       "    <tr>\n",
       "      <th>9893</th>\n",
       "      <td>679000.0</td>\n",
       "      <td>3</td>\n",
       "      <td>2.50</td>\n",
       "      <td>1780</td>\n",
       "      <td>4320</td>\n",
       "      <td>2.0</td>\n",
       "      <td>0</td>\n",
       "      <td>0</td>\n",
       "      <td>4</td>\n",
       "      <td>8</td>\n",
       "      <td>1780.0</td>\n",
       "      <td>0</td>\n",
       "      <td>1930</td>\n",
       "      <td>1986</td>\n",
       "      <td>1690</td>\n",
       "      <td>4952</td>\n",
       "    </tr>\n",
       "    <tr>\n",
       "      <th>1999</th>\n",
       "      <td>722500.0</td>\n",
       "      <td>4</td>\n",
       "      <td>2.50</td>\n",
       "      <td>2460</td>\n",
       "      <td>9296</td>\n",
       "      <td>2.0</td>\n",
       "      <td>0</td>\n",
       "      <td>0</td>\n",
       "      <td>3</td>\n",
       "      <td>9</td>\n",
       "      <td>2460.0</td>\n",
       "      <td>0</td>\n",
       "      <td>1978</td>\n",
       "      <td>0</td>\n",
       "      <td>2730</td>\n",
       "      <td>9900</td>\n",
       "    </tr>\n",
       "    <tr>\n",
       "      <th>17602</th>\n",
       "      <td>115000.0</td>\n",
       "      <td>3</td>\n",
       "      <td>1.00</td>\n",
       "      <td>1080</td>\n",
       "      <td>6250</td>\n",
       "      <td>1.0</td>\n",
       "      <td>0</td>\n",
       "      <td>0</td>\n",
       "      <td>2</td>\n",
       "      <td>5</td>\n",
       "      <td>1080.0</td>\n",
       "      <td>0</td>\n",
       "      <td>1950</td>\n",
       "      <td>0</td>\n",
       "      <td>1070</td>\n",
       "      <td>6250</td>\n",
       "    </tr>\n",
       "    <tr>\n",
       "      <th>9222</th>\n",
       "      <td>289000.0</td>\n",
       "      <td>4</td>\n",
       "      <td>2.50</td>\n",
       "      <td>1961</td>\n",
       "      <td>3207</td>\n",
       "      <td>2.0</td>\n",
       "      <td>0</td>\n",
       "      <td>0</td>\n",
       "      <td>3</td>\n",
       "      <td>7</td>\n",
       "      <td>1961.0</td>\n",
       "      <td>0</td>\n",
       "      <td>2006</td>\n",
       "      <td>0</td>\n",
       "      <td>1961</td>\n",
       "      <td>3401</td>\n",
       "    </tr>\n",
       "    <tr>\n",
       "      <th>20958</th>\n",
       "      <td>269800.0</td>\n",
       "      <td>4</td>\n",
       "      <td>2.75</td>\n",
       "      <td>1830</td>\n",
       "      <td>3420</td>\n",
       "      <td>2.0</td>\n",
       "      <td>0</td>\n",
       "      <td>0</td>\n",
       "      <td>3</td>\n",
       "      <td>8</td>\n",
       "      <td>1830.0</td>\n",
       "      <td>0</td>\n",
       "      <td>2012</td>\n",
       "      <td>0</td>\n",
       "      <td>1813</td>\n",
       "      <td>3420</td>\n",
       "    </tr>\n",
       "    <tr>\n",
       "      <th>10468</th>\n",
       "      <td>2000000.0</td>\n",
       "      <td>4</td>\n",
       "      <td>3.75</td>\n",
       "      <td>2870</td>\n",
       "      <td>4500</td>\n",
       "      <td>2.0</td>\n",
       "      <td>0</td>\n",
       "      <td>3</td>\n",
       "      <td>3</td>\n",
       "      <td>10</td>\n",
       "      <td>2510.0</td>\n",
       "      <td>360</td>\n",
       "      <td>2012</td>\n",
       "      <td>0</td>\n",
       "      <td>2870</td>\n",
       "      <td>6354</td>\n",
       "    </tr>\n",
       "    <tr>\n",
       "      <th>8287</th>\n",
       "      <td>382000.0</td>\n",
       "      <td>3</td>\n",
       "      <td>3.25</td>\n",
       "      <td>1410</td>\n",
       "      <td>1253</td>\n",
       "      <td>3.0</td>\n",
       "      <td>0</td>\n",
       "      <td>0</td>\n",
       "      <td>3</td>\n",
       "      <td>8</td>\n",
       "      <td>1410.0</td>\n",
       "      <td>0</td>\n",
       "      <td>2005</td>\n",
       "      <td>0</td>\n",
       "      <td>1410</td>\n",
       "      <td>1253</td>\n",
       "    </tr>\n",
       "    <tr>\n",
       "      <th>6266</th>\n",
       "      <td>359000.0</td>\n",
       "      <td>4</td>\n",
       "      <td>1.75</td>\n",
       "      <td>1680</td>\n",
       "      <td>9244</td>\n",
       "      <td>2.0</td>\n",
       "      <td>0</td>\n",
       "      <td>0</td>\n",
       "      <td>3</td>\n",
       "      <td>8</td>\n",
       "      <td>1680.0</td>\n",
       "      <td>0</td>\n",
       "      <td>1991</td>\n",
       "      <td>0</td>\n",
       "      <td>1840</td>\n",
       "      <td>9387</td>\n",
       "    </tr>\n",
       "    <tr>\n",
       "      <th>6261</th>\n",
       "      <td>848000.0</td>\n",
       "      <td>5</td>\n",
       "      <td>1.75</td>\n",
       "      <td>2290</td>\n",
       "      <td>4320</td>\n",
       "      <td>2.0</td>\n",
       "      <td>0</td>\n",
       "      <td>0</td>\n",
       "      <td>3</td>\n",
       "      <td>7</td>\n",
       "      <td>1980.0</td>\n",
       "      <td>310</td>\n",
       "      <td>1928</td>\n",
       "      <td>0</td>\n",
       "      <td>2870</td>\n",
       "      <td>4320</td>\n",
       "    </tr>\n",
       "  </tbody>\n",
       "</table>\n",
       "</div>"
      ],
      "text/plain": [
       "           price  bedrooms  bathrooms  sqft_living  sqft_lot  floors  \\\n",
       "512    1095000.0         5       3.50         4410     57063     2.0   \n",
       "9893    679000.0         3       2.50         1780      4320     2.0   \n",
       "1999    722500.0         4       2.50         2460      9296     2.0   \n",
       "17602   115000.0         3       1.00         1080      6250     1.0   \n",
       "9222    289000.0         4       2.50         1961      3207     2.0   \n",
       "20958   269800.0         4       2.75         1830      3420     2.0   \n",
       "10468  2000000.0         4       3.75         2870      4500     2.0   \n",
       "8287    382000.0         3       3.25         1410      1253     3.0   \n",
       "6266    359000.0         4       1.75         1680      9244     2.0   \n",
       "6261    848000.0         5       1.75         2290      4320     2.0   \n",
       "\n",
       "       waterfront  view  condition  grade  sqft_above  sqft_basement  \\\n",
       "512             0     0          4      9      4410.0              0   \n",
       "9893            0     0          4      8      1780.0              0   \n",
       "1999            0     0          3      9      2460.0              0   \n",
       "17602           0     0          2      5      1080.0              0   \n",
       "9222            0     0          3      7      1961.0              0   \n",
       "20958           0     0          3      8      1830.0              0   \n",
       "10468           0     3          3     10      2510.0            360   \n",
       "8287            0     0          3      8      1410.0              0   \n",
       "6266            0     0          3      8      1680.0              0   \n",
       "6261            0     0          3      7      1980.0            310   \n",
       "\n",
       "       yr_built  yr_renovated  sqft_living15  sqft_lot15  \n",
       "512        1990             0           2900       50529  \n",
       "9893       1930          1986           1690        4952  \n",
       "1999       1978             0           2730        9900  \n",
       "17602      1950             0           1070        6250  \n",
       "9222       2006             0           1961        3401  \n",
       "20958      2012             0           1813        3420  \n",
       "10468      2012             0           2870        6354  \n",
       "8287       2005             0           1410        1253  \n",
       "6266       1991             0           1840        9387  \n",
       "6261       1928             0           2870        4320  "
      ]
     },
     "execution_count": 6,
     "metadata": {},
     "output_type": "execute_result"
    }
   ],
   "source": [
    "kc_data.sample(10)"
   ]
  },
  {
   "cell_type": "code",
   "execution_count": 7,
   "id": "31837d4e",
   "metadata": {},
   "outputs": [],
   "source": [
    "# converts column into categorical data. Puts \"ye_renovated\" wherever values is greater than 1\n",
    "kc_data.loc[kc_data[\"yr_renovated\"]>1,\"yr_renovated\"]=1  "
   ]
  },
  {
   "cell_type": "code",
   "execution_count": 8,
   "id": "55e9864d",
   "metadata": {},
   "outputs": [
    {
     "data": {
      "text/plain": [
       "0    0\n",
       "1    1\n",
       "2    0\n",
       "3    0\n",
       "4    0\n",
       "Name: yr_renovated, dtype: int64"
      ]
     },
     "execution_count": 8,
     "metadata": {},
     "output_type": "execute_result"
    }
   ],
   "source": [
    "kc_data['yr_renovated'].head()"
   ]
  },
  {
   "cell_type": "code",
   "execution_count": 9,
   "id": "f9c9fcdf",
   "metadata": {},
   "outputs": [
    {
     "data": {
      "text/plain": [
       "price            False\n",
       "bedrooms         False\n",
       "bathrooms        False\n",
       "sqft_living      False\n",
       "sqft_lot         False\n",
       "floors           False\n",
       "waterfront       False\n",
       "view             False\n",
       "condition        False\n",
       "grade            False\n",
       "sqft_above        True\n",
       "sqft_basement    False\n",
       "yr_built         False\n",
       "yr_renovated     False\n",
       "sqft_living15    False\n",
       "sqft_lot15       False\n",
       "dtype: bool"
      ]
     },
     "execution_count": 9,
     "metadata": {},
     "output_type": "execute_result"
    }
   ],
   "source": [
    "kc_data.isnull().any()"
   ]
  },
  {
   "cell_type": "code",
   "execution_count": 10,
   "id": "205dc483",
   "metadata": {},
   "outputs": [
    {
     "data": {
      "text/plain": [
       "(21613, 16)"
      ]
     },
     "execution_count": 10,
     "metadata": {},
     "output_type": "execute_result"
    }
   ],
   "source": [
    "kc_data.shape  #Number of records before dropping NULL records"
   ]
  },
  {
   "cell_type": "code",
   "execution_count": 11,
   "id": "9122fff2",
   "metadata": {},
   "outputs": [],
   "source": [
    "kc_data.dropna(inplace=True)   # dropping all records having NULL values"
   ]
  },
  {
   "cell_type": "code",
   "execution_count": 12,
   "id": "c9d68dae",
   "metadata": {},
   "outputs": [
    {
     "data": {
      "text/plain": [
       "(21611, 16)"
      ]
     },
     "execution_count": 12,
     "metadata": {},
     "output_type": "execute_result"
    }
   ],
   "source": [
    "kc_data.shape #Number of records after dropping NULL records"
   ]
  },
  {
   "cell_type": "code",
   "execution_count": 13,
   "id": "f8ef44a9",
   "metadata": {},
   "outputs": [
    {
     "data": {
      "text/plain": [
       "price            False\n",
       "bedrooms         False\n",
       "bathrooms        False\n",
       "sqft_living      False\n",
       "sqft_lot         False\n",
       "floors           False\n",
       "waterfront       False\n",
       "view             False\n",
       "condition        False\n",
       "grade            False\n",
       "sqft_above       False\n",
       "sqft_basement    False\n",
       "yr_built         False\n",
       "yr_renovated     False\n",
       "sqft_living15    False\n",
       "sqft_lot15       False\n",
       "dtype: bool"
      ]
     },
     "execution_count": 13,
     "metadata": {},
     "output_type": "execute_result"
    }
   ],
   "source": [
    "kc_data.isnull().any() "
   ]
  },
  {
   "cell_type": "code",
   "execution_count": 14,
   "id": "3671f082",
   "metadata": {},
   "outputs": [
    {
     "data": {
      "text/plain": [
       "price            float64\n",
       "bedrooms           int64\n",
       "bathrooms        float64\n",
       "sqft_living        int64\n",
       "sqft_lot           int64\n",
       "floors           float64\n",
       "waterfront         int64\n",
       "view               int64\n",
       "condition          int64\n",
       "grade              int64\n",
       "sqft_above       float64\n",
       "sqft_basement      int64\n",
       "yr_built           int64\n",
       "yr_renovated       int64\n",
       "sqft_living15      int64\n",
       "sqft_lot15         int64\n",
       "dtype: object"
      ]
     },
     "execution_count": 14,
     "metadata": {},
     "output_type": "execute_result"
    }
   ],
   "source": [
    "kc_data.dtypes"
   ]
  },
  {
   "cell_type": "code",
   "execution_count": 15,
   "id": "f21f0b1b",
   "metadata": {},
   "outputs": [],
   "source": [
    "col=['waterfront','view', 'yr_renovated']  #rows to convert to category data type"
   ]
  },
  {
   "cell_type": "code",
   "execution_count": 16,
   "id": "7080c86c",
   "metadata": {},
   "outputs": [],
   "source": [
    "for i in col:\n",
    "    kc_data[i]=kc_data[i].astype('category', copy=False)"
   ]
  },
  {
   "cell_type": "code",
   "execution_count": 17,
   "id": "7e9697b5",
   "metadata": {},
   "outputs": [
    {
     "data": {
      "text/plain": [
       "price             float64\n",
       "bedrooms            int64\n",
       "bathrooms         float64\n",
       "sqft_living         int64\n",
       "sqft_lot            int64\n",
       "floors            float64\n",
       "waterfront       category\n",
       "view             category\n",
       "condition           int64\n",
       "grade               int64\n",
       "sqft_above        float64\n",
       "sqft_basement       int64\n",
       "yr_built            int64\n",
       "yr_renovated     category\n",
       "sqft_living15       int64\n",
       "sqft_lot15          int64\n",
       "dtype: object"
      ]
     },
     "execution_count": 17,
     "metadata": {},
     "output_type": "execute_result"
    }
   ],
   "source": [
    "kc_data.dtypes"
   ]
  },
  {
   "cell_type": "code",
   "execution_count": 18,
   "id": "bc210b07",
   "metadata": {},
   "outputs": [],
   "source": [
    "# kc_data.to_csv(r'C:\\Users\\fakhr\\Experimental_design_for_data_analysis\\Dataset\\kc_house_cleaned.csv')  #putting cleaned data in csv"
   ]
  },
  {
   "cell_type": "code",
   "execution_count": 19,
   "id": "d599c8f9",
   "metadata": {},
   "outputs": [
    {
     "data": {
      "image/png": "[encoded data removed]",
      "text/plain": [
       "<Figure size 576x432 with 1 Axes>"
      ]
     },
     "metadata": {
      "needs_background": "light"
     },
     "output_type": "display_data"
    }
   ],
   "source": [
    "#visualising data \n",
    "\n",
    "fig,ax= plt.subplots(figsize=(8,6))  \n",
    "\n",
    "plt.scatter(kc_data['bedrooms'], kc_data['bathrooms'])\n",
    "\n",
    "plt.xlabel('Number of Bedrooms/house')\n",
    "plt.ylabel('Number of bathrooms/bedroom')\n",
    "\n",
    "plt.show()\n",
    "            \n"
   ]
  },
  {
   "cell_type": "code",
   "execution_count": 20,
   "id": "56d0fa76",
   "metadata": {},
   "outputs": [
    {
     "data": {
      "image/png": "[encoded data removed]",
      "text/plain": [
       "<Figure size 576x432 with 1 Axes>"
      ]
     },
     "metadata": {
      "needs_background": "light"
     },
     "output_type": "display_data"
    }
   ],
   "source": [
    "#visualising data of price w.r.t. square footage\n",
    "\n",
    "plt.figure(figsize=(8,6))   \n",
    "\n",
    "plt.scatter(kc_data['sqft_living'], kc_data['price'])\n",
    "\n",
    "plt.xlabel('square footage of home ')\n",
    "plt.ylabel('price')\n",
    "\n",
    "plt.show()"
   ]
  },
  {
   "cell_type": "code",
   "execution_count": 21,
   "id": "afec41ac",
   "metadata": {},
   "outputs": [
    {
     "data": {
      "image/png": "[encoded data removed]",
      "text/plain": [
       "<Figure size 576x432 with 1 Axes>"
      ]
     },
     "metadata": {
      "needs_background": "light"
     },
     "output_type": "display_data"
    }
   ],
   "source": [
    "plt.figure(figsize=(8,6))\n",
    "\n",
    "plt.scatter(kc_data['grade'], kc_data['price'])\n",
    "\n",
    "plt.xlabel('grade')\n",
    "plt.ylabel('price')\n",
    "\n",
    "plt.show()"
   ]
  },
  {
   "cell_type": "code",
   "execution_count": 22,
   "id": "663c5e6a",
   "metadata": {},
   "outputs": [
    {
     "data": {
      "text/html": [
       "<div>\n",
       "<style scoped>\n",
       "    .dataframe tbody tr th:only-of-type {\n",
       "        vertical-align: middle;\n",
       "    }\n",
       "\n",
       "    .dataframe tbody tr th {\n",
       "        vertical-align: top;\n",
       "    }\n",
       "\n",
       "    .dataframe thead th {\n",
       "        text-align: right;\n",
       "    }\n",
       "</style>\n",
       "<table border=\"1\" class=\"dataframe\">\n",
       "  <thead>\n",
       "    <tr style=\"text-align: right;\">\n",
       "      <th></th>\n",
       "      <th>price</th>\n",
       "      <th>bedrooms</th>\n",
       "      <th>bathrooms</th>\n",
       "      <th>sqft_living</th>\n",
       "      <th>sqft_lot</th>\n",
       "      <th>floors</th>\n",
       "      <th>condition</th>\n",
       "      <th>grade</th>\n",
       "      <th>sqft_above</th>\n",
       "      <th>sqft_basement</th>\n",
       "      <th>yr_built</th>\n",
       "      <th>sqft_living15</th>\n",
       "      <th>sqft_lot15</th>\n",
       "    </tr>\n",
       "  </thead>\n",
       "  <tbody>\n",
       "    <tr>\n",
       "      <th>price</th>\n",
       "      <td>1.000000</td>\n",
       "      <td>0.308366</td>\n",
       "      <td>0.525150</td>\n",
       "      <td>0.702055</td>\n",
       "      <td>0.089661</td>\n",
       "      <td>0.256814</td>\n",
       "      <td>0.036379</td>\n",
       "      <td>0.667434</td>\n",
       "      <td>0.605567</td>\n",
       "      <td>0.323842</td>\n",
       "      <td>0.054006</td>\n",
       "      <td>0.585377</td>\n",
       "      <td>0.082448</td>\n",
       "    </tr>\n",
       "    <tr>\n",
       "      <th>bedrooms</th>\n",
       "      <td>0.308366</td>\n",
       "      <td>1.000000</td>\n",
       "      <td>0.515974</td>\n",
       "      <td>0.576763</td>\n",
       "      <td>0.031710</td>\n",
       "      <td>0.175418</td>\n",
       "      <td>0.028433</td>\n",
       "      <td>0.356998</td>\n",
       "      <td>0.477616</td>\n",
       "      <td>0.303251</td>\n",
       "      <td>0.154248</td>\n",
       "      <td>0.391670</td>\n",
       "      <td>0.029252</td>\n",
       "    </tr>\n",
       "    <tr>\n",
       "      <th>bathrooms</th>\n",
       "      <td>0.525150</td>\n",
       "      <td>0.515974</td>\n",
       "      <td>1.000000</td>\n",
       "      <td>0.754684</td>\n",
       "      <td>0.087730</td>\n",
       "      <td>0.500712</td>\n",
       "      <td>-0.124917</td>\n",
       "      <td>0.664981</td>\n",
       "      <td>0.685363</td>\n",
       "      <td>0.283737</td>\n",
       "      <td>0.505968</td>\n",
       "      <td>0.568626</td>\n",
       "      <td>0.087163</td>\n",
       "    </tr>\n",
       "    <tr>\n",
       "      <th>sqft_living</th>\n",
       "      <td>0.702055</td>\n",
       "      <td>0.576763</td>\n",
       "      <td>0.754684</td>\n",
       "      <td>1.000000</td>\n",
       "      <td>0.172841</td>\n",
       "      <td>0.354048</td>\n",
       "      <td>-0.058689</td>\n",
       "      <td>0.762727</td>\n",
       "      <td>0.876644</td>\n",
       "      <td>0.434925</td>\n",
       "      <td>0.318066</td>\n",
       "      <td>0.756440</td>\n",
       "      <td>0.183301</td>\n",
       "    </tr>\n",
       "    <tr>\n",
       "      <th>sqft_lot</th>\n",
       "      <td>0.089661</td>\n",
       "      <td>0.031710</td>\n",
       "      <td>0.087730</td>\n",
       "      <td>0.172841</td>\n",
       "      <td>1.000000</td>\n",
       "      <td>-0.005206</td>\n",
       "      <td>-0.008951</td>\n",
       "      <td>0.113617</td>\n",
       "      <td>0.183511</td>\n",
       "      <td>0.015301</td>\n",
       "      <td>0.053061</td>\n",
       "      <td>0.144605</td>\n",
       "      <td>0.718556</td>\n",
       "    </tr>\n",
       "    <tr>\n",
       "      <th>floors</th>\n",
       "      <td>0.256814</td>\n",
       "      <td>0.175418</td>\n",
       "      <td>0.500712</td>\n",
       "      <td>0.354048</td>\n",
       "      <td>-0.005206</td>\n",
       "      <td>1.000000</td>\n",
       "      <td>-0.263808</td>\n",
       "      <td>0.458208</td>\n",
       "      <td>0.523899</td>\n",
       "      <td>-0.245634</td>\n",
       "      <td>0.489361</td>\n",
       "      <td>0.279907</td>\n",
       "      <td>-0.011275</td>\n",
       "    </tr>\n",
       "    <tr>\n",
       "      <th>condition</th>\n",
       "      <td>0.036379</td>\n",
       "      <td>0.028433</td>\n",
       "      <td>-0.124917</td>\n",
       "      <td>-0.058689</td>\n",
       "      <td>-0.008951</td>\n",
       "      <td>-0.263808</td>\n",
       "      <td>1.000000</td>\n",
       "      <td>-0.144647</td>\n",
       "      <td>-0.158206</td>\n",
       "      <td>0.174273</td>\n",
       "      <td>-0.361384</td>\n",
       "      <td>-0.092795</td>\n",
       "      <td>-0.003397</td>\n",
       "    </tr>\n",
       "    <tr>\n",
       "      <th>grade</th>\n",
       "      <td>0.667434</td>\n",
       "      <td>0.356998</td>\n",
       "      <td>0.664981</td>\n",
       "      <td>0.762727</td>\n",
       "      <td>0.113617</td>\n",
       "      <td>0.458208</td>\n",
       "      <td>-0.144647</td>\n",
       "      <td>1.000000</td>\n",
       "      <td>0.755924</td>\n",
       "      <td>0.168375</td>\n",
       "      <td>0.446958</td>\n",
       "      <td>0.713197</td>\n",
       "      <td>0.119243</td>\n",
       "    </tr>\n",
       "    <tr>\n",
       "      <th>sqft_above</th>\n",
       "      <td>0.605567</td>\n",
       "      <td>0.477616</td>\n",
       "      <td>0.685363</td>\n",
       "      <td>0.876644</td>\n",
       "      <td>0.183511</td>\n",
       "      <td>0.523899</td>\n",
       "      <td>-0.158206</td>\n",
       "      <td>0.755924</td>\n",
       "      <td>1.000000</td>\n",
       "      <td>-0.051976</td>\n",
       "      <td>0.423915</td>\n",
       "      <td>0.731871</td>\n",
       "      <td>0.194048</td>\n",
       "    </tr>\n",
       "    <tr>\n",
       "      <th>sqft_basement</th>\n",
       "      <td>0.323842</td>\n",
       "      <td>0.303251</td>\n",
       "      <td>0.283737</td>\n",
       "      <td>0.434925</td>\n",
       "      <td>0.015301</td>\n",
       "      <td>-0.245634</td>\n",
       "      <td>0.174273</td>\n",
       "      <td>0.168375</td>\n",
       "      <td>-0.051976</td>\n",
       "      <td>1.000000</td>\n",
       "      <td>-0.133195</td>\n",
       "      <td>0.200341</td>\n",
       "      <td>0.017292</td>\n",
       "    </tr>\n",
       "    <tr>\n",
       "      <th>yr_built</th>\n",
       "      <td>0.054006</td>\n",
       "      <td>0.154248</td>\n",
       "      <td>0.505968</td>\n",
       "      <td>0.318066</td>\n",
       "      <td>0.053061</td>\n",
       "      <td>0.489361</td>\n",
       "      <td>-0.361384</td>\n",
       "      <td>0.446958</td>\n",
       "      <td>0.423915</td>\n",
       "      <td>-0.133195</td>\n",
       "      <td>1.000000</td>\n",
       "      <td>0.326214</td>\n",
       "      <td>0.070936</td>\n",
       "    </tr>\n",
       "    <tr>\n",
       "      <th>sqft_living15</th>\n",
       "      <td>0.585377</td>\n",
       "      <td>0.391670</td>\n",
       "      <td>0.568626</td>\n",
       "      <td>0.756440</td>\n",
       "      <td>0.144605</td>\n",
       "      <td>0.279907</td>\n",
       "      <td>-0.092795</td>\n",
       "      <td>0.713197</td>\n",
       "      <td>0.731871</td>\n",
       "      <td>0.200341</td>\n",
       "      <td>0.326214</td>\n",
       "      <td>1.000000</td>\n",
       "      <td>0.183188</td>\n",
       "    </tr>\n",
       "    <tr>\n",
       "      <th>sqft_lot15</th>\n",
       "      <td>0.082448</td>\n",
       "      <td>0.029252</td>\n",
       "      <td>0.087163</td>\n",
       "      <td>0.183301</td>\n",
       "      <td>0.718556</td>\n",
       "      <td>-0.011275</td>\n",
       "      <td>-0.003397</td>\n",
       "      <td>0.119243</td>\n",
       "      <td>0.194048</td>\n",
       "      <td>0.017292</td>\n",
       "      <td>0.070936</td>\n",
       "      <td>0.183188</td>\n",
       "      <td>1.000000</td>\n",
       "    </tr>\n",
       "  </tbody>\n",
       "</table>\n",
       "</div>"
      ],
      "text/plain": [
       "                  price  bedrooms  bathrooms  sqft_living  sqft_lot    floors  \\\n",
       "price          1.000000  0.308366   0.525150     0.702055  0.089661  0.256814   \n",
       "bedrooms       0.308366  1.000000   0.515974     0.576763  0.031710  0.175418   \n",
       "bathrooms      0.525150  0.515974   1.000000     0.754684  0.087730  0.500712   \n",
       "sqft_living    0.702055  0.576763   0.754684     1.000000  0.172841  0.354048   \n",
       "sqft_lot       0.089661  0.031710   0.087730     0.172841  1.000000 -0.005206   \n",
       "floors         0.256814  0.175418   0.500712     0.354048 -0.005206  1.000000   \n",
       "condition      0.036379  0.028433  -0.124917    -0.058689 -0.008951 -0.263808   \n",
       "grade          0.667434  0.356998   0.664981     0.762727  0.113617  0.458208   \n",
       "sqft_above     0.605567  0.477616   0.685363     0.876644  0.183511  0.523899   \n",
       "sqft_basement  0.323842  0.303251   0.283737     0.434925  0.015301 -0.245634   \n",
       "yr_built       0.054006  0.154248   0.505968     0.318066  0.053061  0.489361   \n",
       "sqft_living15  0.585377  0.391670   0.568626     0.756440  0.144605  0.279907   \n",
       "sqft_lot15     0.082448  0.029252   0.087163     0.183301  0.718556 -0.011275   \n",
       "\n",
       "               condition     grade  sqft_above  sqft_basement  yr_built  \\\n",
       "price           0.036379  0.667434    0.605567       0.323842  0.054006   \n",
       "bedrooms        0.028433  0.356998    0.477616       0.303251  0.154248   \n",
       "bathrooms      -0.124917  0.664981    0.685363       0.283737  0.505968   \n",
       "sqft_living    -0.058689  0.762727    0.876644       0.434925  0.318066   \n",
       "sqft_lot       -0.008951  0.113617    0.183511       0.015301  0.053061   \n",
       "floors         -0.263808  0.458208    0.523899      -0.245634  0.489361   \n",
       "condition       1.000000 -0.144647   -0.158206       0.174273 -0.361384   \n",
       "grade          -0.144647  1.000000    0.755924       0.168375  0.446958   \n",
       "sqft_above     -0.158206  0.755924    1.000000      -0.051976  0.423915   \n",
       "sqft_basement   0.174273  0.168375   -0.051976       1.000000 -0.133195   \n",
       "yr_built       -0.361384  0.446958    0.423915      -0.133195  1.000000   \n",
       "sqft_living15  -0.092795  0.713197    0.731871       0.200341  0.326214   \n",
       "sqft_lot15     -0.003397  0.119243    0.194048       0.017292  0.070936   \n",
       "\n",
       "               sqft_living15  sqft_lot15  \n",
       "price               0.585377    0.082448  \n",
       "bedrooms            0.391670    0.029252  \n",
       "bathrooms           0.568626    0.087163  \n",
       "sqft_living         0.756440    0.183301  \n",
       "sqft_lot            0.144605    0.718556  \n",
       "floors              0.279907   -0.011275  \n",
       "condition          -0.092795   -0.003397  \n",
       "grade               0.713197    0.119243  \n",
       "sqft_above          0.731871    0.194048  \n",
       "sqft_basement       0.200341    0.017292  \n",
       "yr_built            0.326214    0.070936  \n",
       "sqft_living15       1.000000    0.183188  \n",
       "sqft_lot15          0.183188    1.000000  "
      ]
     },
     "execution_count": 22,
     "metadata": {},
     "output_type": "execute_result"
    }
   ],
   "source": [
    "kc_data_corr=kc_data.corr()   #finding correlation between columns\n",
    "kc_data_corr"
   ]
  },
  {
   "cell_type": "code",
   "execution_count": 23,
   "id": "b05e4f9a",
   "metadata": {},
   "outputs": [
    {
     "data": {
      "image/png": "[encoded data removed]",
      "text/plain": [
       "<Figure size 576x432 with 2 Axes>"
      ]
     },
     "metadata": {
      "needs_background": "light"
     },
     "output_type": "display_data"
    }
   ],
   "source": [
    "# Heatmap of correlation\n",
    "\n",
    "plt.figure(figsize=(8,6))\n",
    "\n",
    "sns.heatmap(kc_data_corr, annot=True)\n",
    "\n",
    "plt.show()"
   ]
  },
  {
   "cell_type": "markdown",
   "id": "8f7fc111",
   "metadata": {},
   "source": [
    "## Now we create a ML model to get prices"
   ]
  },
  {
   "cell_type": "code",
   "execution_count": 24,
   "id": "aef98906",
   "metadata": {},
   "outputs": [],
   "source": [
    "y=kc_data['price']\n",
    "x=kc_data.drop('price',axis=1)"
   ]
  },
  {
   "cell_type": "code",
   "execution_count": 25,
   "id": "0d955bf3",
   "metadata": {},
   "outputs": [],
   "source": [
    "x_train, x_test, y_train, y_test=train_test_split(x,y,test_size=0.4)"
   ]
  },
  {
   "cell_type": "code",
   "execution_count": 26,
   "id": "1f9add35",
   "metadata": {},
   "outputs": [
    {
     "data": {
      "text/plain": [
       "((12966, 15), (12966,))"
      ]
     },
     "execution_count": 26,
     "metadata": {},
     "output_type": "execute_result"
    }
   ],
   "source": [
    "x_train.shape, y_train.shape"
   ]
  },
  {
   "cell_type": "code",
   "execution_count": 27,
   "id": "8b004634",
   "metadata": {},
   "outputs": [
    {
     "data": {
      "text/plain": [
       "((8645, 15), (8645,))"
      ]
     },
     "execution_count": 27,
     "metadata": {},
     "output_type": "execute_result"
    }
   ],
   "source": [
    "x_test.shape, y_test.shape"
   ]
  },
  {
   "cell_type": "code",
   "execution_count": 28,
   "id": "f475f2be",
   "metadata": {},
   "outputs": [
    {
     "data": {
      "text/plain": [
       "0.6582884318316637"
      ]
     },
     "execution_count": 28,
     "metadata": {},
     "output_type": "execute_result"
    }
   ],
   "source": [
    "reg=LinearRegression().fit(x_train,y_train)   # This trains to get predicted price('y')\n",
    "reg.score(x_test,y_test)   # The score shows that it is predicting pretty decent"
   ]
  },
  {
   "cell_type": "code",
   "execution_count": 30,
   "id": "3dc1a819",
   "metadata": {},
   "outputs": [],
   "source": [
    "from sklearn.model_selection import  cross_val_score "
   ]
  },
  {
   "cell_type": "code",
   "execution_count": 32,
   "id": "ee742e93",
   "metadata": {},
   "outputs": [
    {
     "data": {
      "text/plain": [
       "dict_keys(['explained_variance', 'r2', 'max_error', 'matthews_corrcoef', 'neg_median_absolute_error', 'neg_mean_absolute_error', 'neg_mean_absolute_percentage_error', 'neg_mean_squared_error', 'neg_mean_squared_log_error', 'neg_root_mean_squared_error', 'neg_mean_poisson_deviance', 'neg_mean_gamma_deviance', 'accuracy', 'top_k_accuracy', 'roc_auc', 'roc_auc_ovr', 'roc_auc_ovo', 'roc_auc_ovr_weighted', 'roc_auc_ovo_weighted', 'balanced_accuracy', 'average_precision', 'neg_log_loss', 'neg_brier_score', 'adjusted_rand_score', 'rand_score', 'homogeneity_score', 'completeness_score', 'v_measure_score', 'mutual_info_score', 'adjusted_mutual_info_score', 'normalized_mutual_info_score', 'fowlkes_mallows_score', 'precision', 'precision_macro', 'precision_micro', 'precision_samples', 'precision_weighted', 'recall', 'recall_macro', 'recall_micro', 'recall_samples', 'recall_weighted', 'f1', 'f1_macro', 'f1_micro', 'f1_samples', 'f1_weighted', 'jaccard', 'jaccard_macro', 'jaccard_micro', 'jaccard_samples', 'jaccard_weighted'])"
      ]
     },
     "execution_count": 32,
     "metadata": {},
     "output_type": "execute_result"
    }
   ],
   "source": [
    "import sklearn\n",
    "sklearn.metrics.SCORERS.keys()"
   ]
  },
  {
   "cell_type": "code",
   "execution_count": 34,
   "id": "fae60d91",
   "metadata": {},
   "outputs": [],
   "source": [
    "reg=LinearRegression()\n",
    "scores=cross_val_score(reg,x,y,cv=5,scoring='r2')  # cross validates our data and gives r square values for our models"
   ]
  },
  {
   "cell_type": "code",
   "execution_count": 35,
   "id": "aa96d2ab",
   "metadata": {},
   "outputs": [
    {
     "data": {
      "text/plain": [
       "array([0.65605518, 0.65077556, 0.64342074, 0.65808578, 0.62575563])"
      ]
     },
     "execution_count": 35,
     "metadata": {},
     "output_type": "execute_result"
    }
   ],
   "source": [
    "scores"
   ]
  },
  {
   "cell_type": "code",
   "execution_count": null,
   "id": "c6c5aae1",
   "metadata": {},
   "outputs": [],
   "source": []
  }
 ],
 "metadata": {
  "kernelspec": {
   "display_name": "Python 3 (ipykernel)",
   "language": "python",
   "name": "python3"
  },
  "language_info": {
   "codemirror_mode": {
    "name": "ipython",
    "version": 3
   },
   "file_extension": ".py",
   "mimetype": "text/x-python",
   "name": "python",
   "nbconvert_exporter": "python",
   "pygments_lexer": "ipython3",
   "version": "3.9.12"
  }
 },
 "nbformat": 4,
 "nbformat_minor": 5
}
