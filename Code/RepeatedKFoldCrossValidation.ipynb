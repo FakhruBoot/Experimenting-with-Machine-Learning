{
 "cells": [
  {
   "cell_type": "code",
   "execution_count": 1,
   "id": "193ca9de",
   "metadata": {},
   "outputs": [],
   "source": [
    "import sklearn as sk\n",
    "import pandas as pd\n",
    "import numpy as np\n",
    "from sklearn.model_selection import cross_val_score, RepeatedKFold\n",
    "from sklearn.linear_model import LinearRegression"
   ]
  },
  {
   "cell_type": "code",
   "execution_count": 2,
   "id": "9fa52723",
   "metadata": {},
   "outputs": [],
   "source": [
    "houseprice=pd.read_csv(r'C:\\Users\\fakhr\\Experimental_design_for_data_analysis\\Dataset\\kc_house_cleaned.csv')"
   ]
  },
  {
   "cell_type": "code",
   "execution_count": 3,
   "id": "99e98e4a",
   "metadata": {},
   "outputs": [],
   "source": [
    "y=(np.array(houseprice['price'], dtype='float64')).reshape(-1,1)"
   ]
  },
  {
   "cell_type": "code",
   "execution_count": 4,
   "id": "2ad2a6c5",
   "metadata": {},
   "outputs": [],
   "source": [
    "x=houseprice.drop('price',axis=1)\n",
    "x=np.array(x)"
   ]
  },
  {
   "cell_type": "code",
   "execution_count": 8,
   "id": "a7ecd20d",
   "metadata": {},
   "outputs": [
    {
     "data": {
      "text/plain": [
       "[(array([    4,     6,    10, ..., 21602, 21604, 21607]),\n",
       "  array([    0,     1,     2, ..., 21608, 21609, 21610])),\n",
       " (array([    0,     1,     2, ..., 21608, 21609, 21610]),\n",
       "  array([    4,     6,    10, ..., 21602, 21604, 21607]))]"
      ]
     },
     "execution_count": 8,
     "metadata": {},
     "output_type": "execute_result"
    }
   ],
   "source": [
    "rkf= RepeatedKFold(n_splits=2, n_repeats=1, random_state=0)\n",
    "indices_list=list(rkf.split(x))\n",
    "indices_list"
   ]
  },
  {
   "cell_type": "code",
   "execution_count": 9,
   "id": "c39704a9",
   "metadata": {},
   "outputs": [
    {
     "name": "stdout",
     "output_type": "stream",
     "text": [
      "\n",
      "Train1 [    4     6    10 ... 21602 21604 21607]\n",
      "Test1 [    0     1     2 ... 21608 21609 21610]\n",
      "\n",
      "Train2 [    0     1     2 ... 21608 21609 21610]\n",
      "Test2 [    4     6    10 ... 21602 21604 21607]\n"
     ]
    }
   ],
   "source": [
    "i=1\n",
    "for train,test in rkf.split(x):\n",
    "    print('\\nTrain'+str(i), train)\n",
    "    print('Test'+str(i),test)\n",
    "    \n",
    "    i+=1"
   ]
  },
  {
   "cell_type": "code",
   "execution_count": 7,
   "id": "63f2c2ac",
   "metadata": {},
   "outputs": [
    {
     "data": {
      "text/plain": [
       "(21611, 10806, 10805)"
      ]
     },
     "execution_count": 7,
     "metadata": {},
     "output_type": "execute_result"
    }
   ],
   "source": [
    "len(x), len(train), len(test)"
   ]
  },
  {
   "cell_type": "code",
   "execution_count": 10,
   "id": "8898f67a",
   "metadata": {},
   "outputs": [],
   "source": [
    "x_train1, y_train1 = x[indices_list[0][0]], y[indices_list[0][0]]\n",
    "x_test1, y_test1 = x[indices_list[0][1]], y[indices_list[0][1]]\n",
    "\n",
    "x_train2, y_train2 = x[indices_list[1][0]], y[indices_list[1][0]]\n",
    "x_test2, y_test2 = x[indices_list[1][1]], y[indices_list[1][1]]"
   ]
  },
  {
   "cell_type": "code",
   "execution_count": 11,
   "id": "6dcf188e",
   "metadata": {},
   "outputs": [
    {
     "data": {
      "text/plain": [
       "0.645816320441543"
      ]
     },
     "execution_count": 11,
     "metadata": {},
     "output_type": "execute_result"
    }
   ],
   "source": [
    "reg=LinearRegression().fit(x_train1, y_train1)\n",
    "reg.score(x_test1, y_test1)"
   ]
  },
  {
   "cell_type": "code",
   "execution_count": 12,
   "id": "e99a047f",
   "metadata": {},
   "outputs": [
    {
     "data": {
      "text/plain": [
       "0.649843112118839"
      ]
     },
     "execution_count": 12,
     "metadata": {},
     "output_type": "execute_result"
    }
   ],
   "source": [
    "reg=LinearRegression().fit(x_train2, y_train2)\n",
    "reg.score(x_test2, y_test2)"
   ]
  },
  {
   "cell_type": "code",
   "execution_count": 14,
   "id": "174b81dd",
   "metadata": {},
   "outputs": [
    {
     "data": {
      "text/plain": [
       "array([0.64581632, 0.64984311])"
      ]
     },
     "execution_count": 14,
     "metadata": {},
     "output_type": "execute_result"
    }
   ],
   "source": [
    "cross_val_score(reg,x,y,cv=rkf)    # similar to what we did above but more easy. If you see the score matches as well"
   ]
  },
  {
   "cell_type": "code",
   "execution_count": null,
   "id": "0d4cfcd0",
   "metadata": {},
   "outputs": [],
   "source": []
  }
 ],
 "metadata": {
  "kernelspec": {
   "display_name": "Python 3 (ipykernel)",
   "language": "python",
   "name": "python3"
  },
  "language_info": {
   "codemirror_mode": {
    "name": "ipython",
    "version": 3
   },
   "file_extension": ".py",
   "mimetype": "text/x-python",
   "name": "python",
   "nbconvert_exporter": "python",
   "pygments_lexer": "ipython3",
   "version": "3.9.12"
  }
 },
 "nbformat": 4,
 "nbformat_minor": 5
}
